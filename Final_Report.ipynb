{
 "cells": [
  {
   "cell_type": "markdown",
   "metadata": {},
   "source": [
    "# Project 3: Data Wrangling Open Street Maps for Orlando, Florida\n",
    "\n",
    "I have chosen to do my Data Wrangling map on the Open Street Maps of Orlando, Florida and some areas surrounding it. The purpose of the exercise is to learn the difficulties of working with user input. It is also an exercise in working with XML and Sqlite. All the functions I created/borrowed from exercises/improvized are in a file called audit.py."
   ]
  },
  {
   "cell_type": "markdown",
   "metadata": {},
   "source": [
    "## Project Plan\n",
    "\n",
    "I plan to start off parsing the xml in the following cell. I will write some functions to explore the contents of the xml file, so that the contents of the data is clear. Then I will perform some checks on the data to test data quality and make adjustments where possible. Then I will write up the xml files into csv files, and then convert it into a sqlite database."
   ]
  },
  {
   "cell_type": "code",
   "execution_count": 1,
   "metadata": {
    "collapsed": false
   },
   "outputs": [],
   "source": [
    "#!/usr/bin/env python\n",
    "# -*- coding: utf-8 -*-\n",
    "\n",
    "import xml.etree.ElementTree as ET  # Use cElementTree or lxml if too slow\n",
    "import xml.etree.cElementTree as cET\n",
    "from collections import defaultdict\n",
    "import numpy as np\n",
    "import sqlite3\n",
    "import matplotlib\n",
    "import audit\n",
    "from matplotlib import pyplot as plt\n",
    "import seaborn as sns\n",
    "import re\n",
    "import pprint\n",
    "import cerberus\n",
    "import jsonschema\n",
    "import csv\n",
    "import codecs\n",
    "\n",
    "#paths to the osm files\n",
    "OSM_FILE = \"open_street_map/orlando.osm\"\n",
    "SAMPLE_FILE = \"open_street_map/remake_sample.osm\"\n",
    "\n",
    "#I make the sample file from the original osm file, by  writing down\n",
    "#one top level element from every k (variable to be adjusted) top level elements\n",
    "#There are three types of elements from \n",
    "#open street map: node, way, relation (osm wiki). \n",
    "#Parameter: take every k-th top level element\n",
    "k = 10 \n",
    "\n",
    "#Use the get element function to write up a sample file:\n",
    "with open(SAMPLE_FILE, 'wb') as output:\n",
    "    output.write(str.encode('<?xml version=\"1.0\" encoding=\"UTF-8\"?>\\n'))\n",
    "    output.write(str.encode('<osm>\\n  '))\n",
    "\n",
    "    # Write every kth top level element\n",
    "    for i, element in enumerate(audit.get_element(OSM_FILE)):\n",
    "        if i % k == 0:\n",
    "            output.write(ET.tostring(element, encoding='utf-8'))\n",
    "\n",
    "    output.write(str.encode('</osm>'))"
   ]
  },
  {
   "cell_type": "markdown",
   "metadata": {},
   "source": [
    "## Ensuring Data Quality\n",
    "\n",
    "The code above makes a small sample file out of the total data for an area of interest. I imported 633.6 MB of data in my original OSM file centered around Orlando, Florida - which is one of my favorite cities. I made a small sample file of size 16 MB, which I would use for some auditing to find possible issues. I need to ensure that the data I transfer to sqlite conforms to the following standards:\n",
    "\n",
    "* __It is valid:__ It conforms to a schema\n",
    "* __It is accurate:__ Check against some accurate source to see that the data is real and correct.\n",
    "* __It is complete:__ In case of cross matching, we need to make sure the data is complete.\n",
    "* __It is consistent:__ Cross match fields to see the data set is consistent.\n",
    "* __Uniformity:__ Correct units!\n",
    "\n",
    "To start, let's look at the OSM data structure, by printing out some ways, nodes and relations - which is how the OSM data is organized."
   ]
  },
  {
   "cell_type": "code",
   "execution_count": 2,
   "metadata": {
    "collapsed": false
   },
   "outputs": [
    {
     "name": "stdout",
     "output_type": "stream",
     "text": [
      "way:\n",
      "{'changeset': '10823661', 'user': 'NE2', 'timestamp': '2012-02-28T23:05:48Z', 'uid': '207745', 'id': '4450364', 'version': '17'}\n",
      "relation:\n",
      "{'changeset': '44201253', 'user': 'nyuriks', 'timestamp': '2016-12-06T07:14:18Z', 'uid': '339581', 'id': '117709', 'version': '15'}\n",
      "node:\n",
      "{'changeset': '2443034', 'lon': '-81.2441686', 'user': 'KindredCoda', 'timestamp': '2009-09-11T06:43:35Z', 'lat': '28.4514292', 'uid': '14293', 'id': '16580352', 'version': '2'}\n"
     ]
    }
   ],
   "source": [
    "audit.print_a_tag(SAMPLE_FILE, \"way\")\n",
    "audit.print_a_tag(SAMPLE_FILE, \"relation\")\n",
    "audit.print_a_tag(SAMPLE_FILE, \"node\")"
   ]
  },
  {
   "cell_type": "markdown",
   "metadata": {},
   "source": [
    "This does not give us any information about subtags. We have to do something similar to what was done in the last few exercises to really explore the data set."
   ]
  },
  {
   "cell_type": "code",
   "execution_count": 3,
   "metadata": {
    "collapsed": false
   },
   "outputs": [
    {
     "name": "stdout",
     "output_type": "stream",
     "text": [
      "node:\n",
      "node: {'timestamp': '2009-09-11T06:43:35Z', 'lon': '-81.2441686', 'user': 'KindredCoda', 'changeset': '2443034', 'lat': '28.4514292', 'uid': '14293', 'id': '16580352', 'version': '2'} node_tags: []\n"
     ]
    }
   ],
   "source": [
    "# To make the print out function more spohisticated,\n",
    "# so that  subtags are also included, to get a sense of full osm structure.\n",
    "#A way:\n",
    "#audit.print_a_complete_tag(SAMPLE_FILE, \"way\")\n",
    "\n",
    "#A relation:\n",
    "#audit.print_a_complete_tag(SAMPLE_FILE, \"relation\")\n",
    "\n",
    "#A Node:\n",
    "audit.print_a_complete_tag(SAMPLE_FILE, \"node\")"
   ]
  },
  {
   "cell_type": "markdown",
   "metadata": {},
   "source": [
    "Here I just print out information about one node, but to see the structure of way or relationship, you can use a sample comment as shown in the cell above."
   ]
  },
  {
   "cell_type": "markdown",
   "metadata": {},
   "source": [
    "Now we can start to look into the structure in which information is organized is open street map. By looking at the wiki, I understand that \"tags\" are just pieces of information someone can add to a node, a way or a relation. It contains a key and a value. For instance, if I wanted to add the zipcode of a node (position with latitude and longitude), I would add a tag with k=\"postcode\" and v=\"19010\" and so on. \n",
    "\n",
    "A way_node tells us where along the \"way\" a node falls and is connected to the node using a node_id (__nd__ tags).\n",
    "\n",
    "A relation_member helps to describe how nodes and ways are oriented in a way that makes sense geographically. Members refer to a relation by its ID, the node or way it is refering to by its id, and has an optional \"role\" field to tell us how this node/way is related to the rest of the relation members.\n",
    "\n",
    "To validate data, we need to set up a schema. For this, we need to look at the XML exercises and the schema that were provided to us so that we can set it up for this dataset. Actually, it appears we can use the schema provided in the last exercise verbatim here, which is what we are going to do for the street audit and data validation part.\n",
    "\n",
    "Let us first find out all the weird street names and see if it requires any changes."
   ]
  },
  {
   "cell_type": "code",
   "execution_count": 4,
   "metadata": {
    "collapsed": false
   },
   "outputs": [
    {
     "data": {
      "text/plain": [
       "defaultdict(set,\n",
       "            {'104': {'W Sand Lake Road #104'},\n",
       "             '1041': {'FL-436 #1041'},\n",
       "             '250': {'New York Avenue ste 250'},\n",
       "             '434': {'E State Rd 434'},\n",
       "             '535': {'State Road 535'},\n",
       "             'Ave': {'Kentucky Ave',\n",
       "              'South Rio Grande Ave',\n",
       "              'W Fairbanks Ave'},\n",
       "             'Blvd': {'John Henry Jones Blvd'},\n",
       "             'Broadway': {'Broadway'},\n",
       "             'Circle': {'Caravelle Circle',\n",
       "              'Dharma Circle',\n",
       "              'Mallory Circle',\n",
       "              'Mystic Circle',\n",
       "              'South Trail Circle',\n",
       "              'Stonerock Circle',\n",
       "              'Sun Tree Circle',\n",
       "              'Visitors Circle',\n",
       "              'Waterside Pointe Circle'},\n",
       "             'Ct': {'Belle Fern Ct', 'Campus View Ct'},\n",
       "             'DR': {'TREE SWALLOW DR'},\n",
       "             'Dr': {'E Colonial Dr'},\n",
       "             'Highway': {'Bronson Highway',\n",
       "              'W Irlo Bronson Memorial Highway',\n",
       "              'West Irlo Bronson Memorial Highway'},\n",
       "             'Loop': {'Terra Mango Loop'},\n",
       "             'St': {'Livingston  St'},\n",
       "             'St.': {'E Michigan St.'},\n",
       "             'Way': {'American Way'}})"
      ]
     },
     "execution_count": 4,
     "metadata": {},
     "output_type": "execute_result"
    }
   ],
   "source": [
    "audit.audit(SAMPLE_FILE)"
   ]
  },
  {
   "cell_type": "markdown",
   "metadata": {},
   "source": [
    "I should update the expected list to add Circle, Loop, Highway and Way to it.\n",
    "\n",
    "And of course, as in the exercises, we find shortened names, St., Ave, Trl and Blvd... We can use something similar to the mapping function we did in the exercises to change the names to Street, Avenue, Trail and Boulevard. I will change it in the clean_street_names function, which would be called in the shape_element function where we make dictionaries from the xml file so that they can be written in csv files. I improved the clean_street_name function a little bit ignoring case when using regular expression module."
   ]
  },
  {
   "cell_type": "markdown",
   "metadata": {},
   "source": [
    "I also found that some people will use postcodes in the format \"32803-4806\". The postcode bit is a value of a subtag so it is in text format, so we can keep the extra four digits. But for the sake of consistency, I think it is okay if we lose these last four digits after hyphen, and just keep the first five digits. I added this postcode clean up bit inside the shape\\_element function we got from the exercises.\n",
    "\n",
    "Additionally, phone number entries have different formats, and opening hours for businesses have both \",\" and \";\" separating information for different days of the week. These entries can be standardized too. For now, we proceed with just the street name and postcode clean up."
   ]
  },
  {
   "cell_type": "code",
   "execution_count": 5,
   "metadata": {
    "collapsed": false,
    "scrolled": true
   },
   "outputs": [
    {
     "name": "stdout",
     "output_type": "stream",
     "text": [
      "Original: South Rio Grande Ave\n",
      "After change: South Rio Grande Avenue\n",
      "Original: Livingston  St\n",
      "After change: Livingston  Street\n",
      "Original: Belle Fern Ct\n",
      "After change: Belle Fern Court\n",
      "Original: E Michigan St.\n",
      "After change: E Michigan Street\n",
      "Original: John Henry Jones Blvd\n",
      "After change: John Henry Jones Boulevard\n",
      "Original: W Fairbanks Ave\n",
      "After change: W Fairbanks Avenue\n",
      "Original: Campus View Ct\n",
      "After change: Campus View Court\n",
      "Original: Kentucky Ave\n",
      "After change: Kentucky Avenue\n",
      "Original: E Colonial Dr\n",
      "After change: E Colonial Drive\n"
     ]
    }
   ],
   "source": [
    "#we need a schema to validate data - we can use this to make the tables schemas in sqlite \n",
    "#(provided in the exercises):\n",
    "#we only need to update this schema to add relations, also we can't use schema the \n",
    "#same way because I am using python 3\n",
    "#all codes in the audit.py\n",
    "#set up the csv files that we can import into sqlite database\n",
    "#from audit import process_map \n",
    "folder_name=\"open_street_map/csv_files/\"\n",
    "suffix=\".csv\"\n",
    "\n",
    "if __name__ == '__main__':\n",
    "    # Note: Validation is ~ 10X slower. For the project consider using a small\n",
    "    # sample of the map when validating.\n",
    "    audit.process_map(SAMPLE_FILE, folder_name, suffix, validate=True)"
   ]
  },
  {
   "cell_type": "markdown",
   "metadata": {},
   "source": [
    "All the data in the ~16 MB sample seems to conforms to a schema, so we know that the **data is valid**.\n",
    "\n",
    "Now we go back into the scrollable example print outs of nodes, tags, ways and relations to think of some other tests we can perform that we can do, and add those functions before writing the csv file.\n",
    "\n",
    "For instance, to check for **accuracy**:\n",
    "* We can make a plot of latitude vs longitude values.\n",
    "* Tags have postcodes... these should be within a certain range and easy to check.\n",
    "\n",
    "To check for **completeness**:\n",
    "We need to check if a node/way referenced somewhere actually exists within our dataset. It could be that a certain node/way referenced is outside the dataset. In that case, maybe we should get rid of the tag/member that is referring to this node. I should explore how to do this using sql.\n",
    "\n",
    "To check for **consistency**:\n",
    "This is where we usually check if one piece of information contradicts another piece of information about that thing. So if two different postcodes were entered for the same node, that would be a problem. We can set up cross checks within tags referring to the same object to find out if there are inconsistencies within our data. This is also something I would want to do in sql, for practice.\n",
    "\n",
    "Some tests, such as completeness tests, can be done using sqlite, for instance using \"Foreign key\" field to check between completeness within tables.\n",
    "\n",
    "To do these tests, it would be nice to have sqlite tables set up. We have csv files, we should be able to set up sqlite tables using the csv files."
   ]
  },
  {
   "cell_type": "markdown",
   "metadata": {},
   "source": [
    "To create a database:"
   ]
  },
  {
   "cell_type": "code",
   "execution_count": 6,
   "metadata": {
    "collapsed": false
   },
   "outputs": [],
   "source": [
    "#csv to sqlite\n",
    "conn = sqlite3.connect('open_street_map/csv_files/orlando.db')\n",
    "c = conn.cursor()\n",
    "# Create table in the database\n",
    "QUERY=\"CREATE TABLE nodes(id NUMERIC,version INTEGER,lat FLOAT,lon FLOAT,\"\\\n",
    "\"changeset NUMERIC,uid INTEGER,timestamp DATETIME,user TEXT,primary key(id))\"\n",
    "c.execute(QUERY)\n",
    "\n",
    "#convert csv file to a list of tuples to populate the table in database\n",
    "with open('open_street_map/csv_files/nodes.csv','rt', encoding= \"utf8\") as fin: \n",
    "    # csv.DictReader uses first line in file for column headings by default\n",
    "    dr = csv.DictReader(fin) # comma is default delimiter\n",
    "    #print(str(dr.fieldnames))\n",
    "    to_db = [(i['id'], i['version'], i['changeset'], i['lon'], i['lat'], i['uid'], i['timestamp'], i['user']) for i in dr]\n",
    "\n",
    "QUERY=\"INSERT INTO nodes(id, version, changeset, lon, lat, uid, timestamp, user)\"\\\n",
    "\"VALUES (?, ?, ?, ?, ?, ?, ?, ?);\"\n",
    "c.executemany(QUERY, to_db)\n",
    "conn.commit()"
   ]
  },
  {
   "cell_type": "markdown",
   "metadata": {},
   "source": [
    "To test that this is working:"
   ]
  },
  {
   "cell_type": "code",
   "execution_count": 7,
   "metadata": {
    "collapsed": false
   },
   "outputs": [
    {
     "name": "stdout",
     "output_type": "stream",
     "text": [
      "16580352\n",
      "26448059\n"
     ]
    }
   ],
   "source": [
    "c = conn.cursor()\n",
    "c.execute(\"SELECT id from nodes order by id limit 2;\")\n",
    "output=c.fetchall()\n",
    "for item in output:\n",
    "    print(item[0])"
   ]
  },
  {
   "cell_type": "markdown",
   "metadata": {},
   "source": [
    "Okay, moving on to populate this database with all the other tables (simply repeating the step I took for nodes table, but with column names changed):"
   ]
  },
  {
   "cell_type": "code",
   "execution_count": 8,
   "metadata": {
    "collapsed": false
   },
   "outputs": [],
   "source": [
    "#node tags table:\n",
    "c.execute(\"CREATE TABLE nodes_tags(id NUMERIC references nodes(id), key TEXT, value TEXT, type TEXT)\")\n",
    "\n",
    "with open('open_street_map/csv_files/nodes_tags.csv','rt', encoding= \"utf8\") as fin: \n",
    "    # csv.DictReader uses first line in file for column headings by default\n",
    "    dr = csv.DictReader(fin) # comma is default delimiter\n",
    "    #print(str(dr.fieldnames))\n",
    "    to_db = [(i['id'], i['key'], i['value'], i['type']) for i in dr]\n",
    "\n",
    "c.executemany(\"INSERT INTO nodes_tags(id, key, value, type) VALUES (?, ?, ?, ?);\", to_db)\n",
    "conn.commit()\n",
    "\n",
    "#ways table\n",
    "c.execute(\"CREATE TABLE ways(id NUMERIC,version INTEGER,changeset NUMERIC,uid INTEGER,timestamp DATETIME,user TEXT,primary key(id))\")\n",
    "\n",
    "with open('open_street_map/csv_files/ways.csv','rt', encoding= \"utf8\") as fin: \n",
    "    # csv.DictReader uses first line in file for column headings by default\n",
    "    dr = csv.DictReader(fin) # comma is default delimiter\n",
    "    #print(str(dr.fieldnames))\n",
    "    to_db = [(i['id'], i['version'], i['changeset'], i['uid'], i['timestamp'], i['user']) for i in dr]\n",
    "\n",
    "c.executemany(\"INSERT INTO ways(id, version, changeset, uid, timestamp, user) VALUES (?, ?, ?, ?, ?, ?);\", to_db)\n",
    "conn.commit()\n",
    "\n",
    "#ways tags table:\n",
    "c.execute(\"CREATE TABLE ways_tags(id NUMERIC references ways(id), key TEXT, value TEXT, type TEXT)\")\n",
    "\n",
    "with open('open_street_map/csv_files/ways_tags.csv','rt', encoding= \"utf8\") as fin:\n",
    "    # csv.DictReader uses first line in file for column headings by default\n",
    "    dr = csv.DictReader(fin) # comma is default delimiter\n",
    "    #print(str(dr.fieldnames))\n",
    "    to_db = [(i['id'], i['key'], i['value'], i['type']) for i in dr]\n",
    "\n",
    "c.executemany(\"INSERT INTO ways_tags(id, key, value, type) VALUES (?, ?, ?, ?);\", to_db)\n",
    "conn.commit()\n",
    "\n",
    "#ways nodes table:\n",
    "c.execute(\"CREATE TABLE ways_nodes(id NUMERIC references ways(id), node_id NUMERIC references nodes(id), position INTEGER)\")\n",
    "\n",
    "with open('open_street_map/csv_files/ways_nodes.csv','rt', encoding= \"utf8\") as fin: # `with` statement available in 2.5+\n",
    "    # csv.DictReader uses first line in file for column headings by default\n",
    "    dr = csv.DictReader(fin) # comma is default delimiter\n",
    "    #print(str(dr.fieldnames))\n",
    "    to_db = [(i['id'], i['node_id'], i['position']) for i in dr]\n",
    "\n",
    "c.executemany(\"INSERT INTO ways_nodes(id, node_id, position) VALUES (?, ?, ?);\", to_db)\n",
    "conn.commit()\n",
    "\n",
    "#relations table\n",
    "c.execute(\"CREATE TABLE relations(id NUMERIC,version INTEGER,changeset NUMERIC,uid INTEGER,timestamp DATETIME,user TEXT,primary key(id))\")\n",
    "\n",
    "with open('open_street_map/csv_files/relations.csv','rt', encoding= \"utf8\") as fin: \n",
    "    # csv.DictReader uses first line in file for column headings by default\n",
    "    dr = csv.DictReader(fin) # comma is default delimiter\n",
    "    #print(str(dr.fieldnames))\n",
    "    to_db = [(i['id'], i['version'], i['changeset'], i['uid'], i['timestamp'], i['user']) for i in dr]\n",
    "\n",
    "c.executemany(\"INSERT INTO relations(id, version, changeset, uid, timestamp, user) VALUES (?, ?, ?, ?, ?, ?);\", to_db)\n",
    "conn.commit()\n",
    "\n",
    "#ways tags table:\n",
    "c.execute(\"CREATE TABLE relations_tags(id NUMERIC references relations(id), key TEXT, value TEXT, type TEXT)\")\n",
    "\n",
    "with open('open_street_map/csv_files/relations_tags.csv','rt', encoding= \"utf8\") as fin:\n",
    "    # csv.DictReader uses first line in file for column headings by default\n",
    "    dr = csv.DictReader(fin) # comma is default delimiter\n",
    "    #print(str(dr.fieldnames))\n",
    "    to_db = [(i['id'], i['key'], i['value'], i['type']) for i in dr]\n",
    "\n",
    "c.executemany(\"INSERT INTO relations_tags(id, key, value, type) VALUES (?, ?, ?, ?);\", to_db)\n",
    "conn.commit()"
   ]
  },
  {
   "cell_type": "code",
   "execution_count": null,
   "metadata": {
    "collapsed": false
   },
   "outputs": [],
   "source": [
    "#c.execute(\"DROP TABLE relations_members;\")\n",
    "\n",
    "#relations member is a little tricky,\n",
    "#the \"ref_id\" can refer to a member_id, a node id or a relation id, so I need to \n",
    "#split the ref_id column to three columns\n",
    "QUERY=\"CREATE TABLE relations_members(id NUMERIC references relations(id), \"\\\n",
    "\"node_id NUMERIC references nodes(id), way_id NUMERIC references ways(id), relation_id \"\\\n",
    "\"NUMERIC references relations(id), role TEXT)\"\n",
    "\n",
    "c.execute(QUERY)\n",
    "\n",
    "with open('open_street_map/csv_files/relations_members.csv','rt', encoding= \"utf8\") as fin:\n",
    "    # csv.DictReader uses first line in file for column headings by default\n",
    "    dr = csv.DictReader(fin) # comma is default delimiter\n",
    "    #print(str(dr.fieldnames))\n",
    "    to_db=[]\n",
    "    for item in dr:\n",
    "        if \"node\" in item[\"ref_to\"]:\n",
    "            one_tuple=(item[\"id\"],item[\"ref_id\"],None,None,item[\"role\"])\n",
    "            to_db.append(one_tuple)\n",
    "        elif \"way\" in item[\"ref_to\"]:\n",
    "            one_tuple=(item[\"id\"],None,item[\"ref_id\"],None,item[\"role\"])\n",
    "            to_db.append(one_tuple)\n",
    "        elif \"relation\" in item[\"ref_to\"]:\n",
    "            one_tuple=(item[\"id\"],None,None,item[\"ref_id\"],item[\"role\"])\n",
    "            to_db.append(one_tuple)\n",
    "        else:\n",
    "            print(item)\n",
    "    #to_db = [(i['id'], i['ref_id'], i['ref_to'], i['role']) for i in dr]\n",
    "\n",
    "c.executemany(\"INSERT INTO relations_members(id, node_id, way_id, relation_id, role) VALUES (?, ?, ?, ?, ?);\", to_db)\n",
    "conn.commit()\n",
    "\n",
    "#Check that the relations_members table is being set up properly:\n",
    "'''\n",
    "c.execute(\"SELECT id, node_id, way_id, relation_id, role from relations_members order by id limit 200 offset 200\")\n",
    "c.fetchall()\n",
    "'''"
   ]
  },
  {
   "cell_type": "markdown",
   "metadata": {},
   "source": [
    "The last two lines of sqlite is to check if the relations members file is working properly. It works so I don't want to print this out, but just uncomment it to test."
   ]
  },
  {
   "cell_type": "markdown",
   "metadata": {},
   "source": [
    "This is consistent with the csv file.\n",
    "\n",
    "The referencing should have alerted us if there are node ids in subtas that don't refer to any real nodes and so on. So we know that __the data is complete__.\n",
    "\n",
    "Converting from sqlite to latitude and longitude."
   ]
  },
  {
   "cell_type": "code",
   "execution_count": 10,
   "metadata": {
    "collapsed": false
   },
   "outputs": [
    {
     "data": {
      "image/png": "[encoded data removed]",
      "text/plain": [
       "<matplotlib.figure.Figure at 0x11f90aba8>"
      ]
     },
     "metadata": {},
     "output_type": "display_data"
    }
   ],
   "source": [
    "c.execute(\"SELECT lat, lon from nodes;\")\n",
    "big_list=c.fetchall()\n",
    "lat=[]\n",
    "lon=[]\n",
    "for item in big_list:\n",
    "    lat.append(item[0])\n",
    "    lon.append(item[1])\n",
    "    \n",
    "plt.scatter(lon, lat, color=\"blue\", s=1)\n",
    "plt.xlabel(\"lon\")\n",
    "plt.ylabel(\"lat\")\n",
    "plt.show()"
   ]
  },
  {
   "cell_type": "markdown",
   "metadata": {},
   "source": [
    "So all the latitude and longitude values seem to fall in the expected range, no wild outliers. Also, the units are consistent (in degrees), so these fields conform to the correct units __(uniform)__.\n",
    "\n",
    "[The postcode in Orlando](http://united-states.postcode.info/florida/orlando) (\"gold standard\"):"
   ]
  },
  {
   "cell_type": "code",
   "execution_count": 11,
   "metadata": {
    "collapsed": false
   },
   "outputs": [
    {
     "name": "stdout",
     "output_type": "stream",
     "text": [
      "32708 | 5\n",
      "32789 | 4\n",
      "32803 | 4\n",
      "32819 | 4\n",
      "32837 | 4\n",
      "34746 | 4\n",
      "32792 | 2\n",
      "32801 | 2\n",
      "32809 | 2\n",
      "32821 | 2\n",
      "32827 | 2\n",
      "32836 | 2\n",
      "34741 | 2\n",
      "32701 | 1\n",
      "32703 | 1\n",
      "32750 | 1\n",
      "32804 | 1\n",
      "32805 | 1\n",
      "32806 | 1\n",
      "32807 | 1\n",
      "32808 | 1\n",
      "32822 | 1\n",
      "32835 | 1\n",
      "34761 | 1\n",
      "34769 | 1\n",
      "34771 | 1\n"
     ]
    }
   ],
   "source": [
    "orlando_postcodes=[32801, 32802, 32803, 32804, 32805, 32806, 32807, 32808, 32809, \n",
    "                   32810, 32811, 32812, 32813, 32814, 32815, 32816, 32817, 32818, \n",
    "                   32819, 32820, 32821, 32822, 32824, 32825, 32826, 32827, 32828, \n",
    "                   32829, 32830, 32831, 32832, 32833, 32834, 32835, 32836, 32837, \n",
    "                   32839, 32853, 32854, 32855, 32856, 32857, 32858, 32859, 32860, \n",
    "                   32861, 32862, 32867, 32868, 32869, 32872, 32877, 32878, 32885, \n",
    "                   32886, 32887, 32889, 32890, 32891, 32893, 32896, 32897, 32898, 32899]\n",
    "#let's make a table of all the postcodes\n",
    "conn = sqlite3.connect('open_street_map/csv_files/orlando.db')\n",
    "c = conn.cursor()\n",
    "QUERY=\"SELECT value, count(*) as num from nodes_tags where ltrim(key) like '%code' \"\\\n",
    "\"group by nodes_tags.value order by num desc\"\n",
    "c.execute(QUERY)\n",
    "node_codes=c.fetchall()\n",
    "for item in node_codes:\n",
    "    print(item[0]+\" | \"+str(item[1]))"
   ]
  },
  {
   "cell_type": "markdown",
   "metadata": {},
   "source": [
    "I think these postcodes are okay - they are surrounding areas like Osceola County. Not really inaccurate values. So far, we have done two checks of accuracies, and it seems that for the subsample, __the data is accurate__. Although there maybe issues we will encounter when we really start thinking about the subtags.\n",
    "\n",
    "We can also check for consistency that two different postcodes weren't entered for the same node. This can be done by looking into the nodes tags table, ordering objects by node ids, where keys=\"postcode\" and seeing if we find any inconsistency.\n",
    "\n",
    "We are going to do that using a subquery - first we find all nodes with a postcode, and then check if a node has a postcode entry more than once. If it does, than we can check to see if they are the same. If they are different, then there is an inconsistency.\n",
    "\n",
    "(__Note:__ The second line of code in the next cell (commented out) gives the list of postcodes. It is a long list, so I am using the subquery to just show there is no instance of repetition of postcodes)."
   ]
  },
  {
   "cell_type": "code",
   "execution_count": 13,
   "metadata": {
    "collapsed": false
   },
   "outputs": [
    {
     "data": {
      "text/plain": [
       "[]"
      ]
     },
     "execution_count": 13,
     "metadata": {},
     "output_type": "execute_result"
    }
   ],
   "source": [
    "#conn = sqlite3.connect('open_street_map/csv_files/orlando.db')\n",
    "c = conn.cursor()\n",
    "#this query creates a subquery table with a column repeatedpostcodes,\n",
    "#which is just the count of how many tags of postcode appear\n",
    "#connected to the same node id. If multiple tags of postcode\n",
    "#are connected to the same node id, we can check for inconsistency\n",
    "QUERY=\"SELECT repeatedpostcodes from (SELECT id, key, value, count(id) \"\\\n",
    "\"as repeatedpostcodes from nodes_tags where key='postcode' group by id order \"\\\n",
    "\"by id) where repeatedpostcodes>1\"\n",
    "c.execute(QUERY)\n",
    "#c.execute(\"SELECT id, key, value, count(id) from nodes_tags where key='postcode' group by id order by id\")\n",
    "c.fetchall()"
   ]
  },
  {
   "cell_type": "markdown",
   "metadata": {},
   "source": [
    "There is no instance of repetition for a postcode for a particular node. So, at least in terms of postcode __the data is consistent__."
   ]
  },
  {
   "cell_type": "markdown",
   "metadata": {},
   "source": [
    "## Insights from data\n",
    "\n",
    "Now that we have made sure that the data is valid, accurate, consistent, complete and uniform, we can move on to getting some real insights about the area. Such as,\n",
    "\n",
    "* What are some of the biggest chain stores in Orlando?\n",
    "* What restaurant chains does it have?\n",
    "* How many nodes are there referring to alligators?\n",
    "* How many refers to Disney?\n",
    "* How many to Universal?\n",
    "* Top ten contributors and the number of entries they contributed to.\n",
    "\n",
    "But first, we must parse the big osm file, convert it from xml to csv and then to sqlite. To convert to csv:"
   ]
  },
  {
   "cell_type": "code",
   "execution_count": null,
   "metadata": {
    "collapsed": false
   },
   "outputs": [],
   "source": [
    "#Convert everything to csv:\n",
    "output_folder=\"open_street_map/csv_files/\"\n",
    "suffix=\"_whole.csv\"\n",
    "if __name__ == '__main__':\n",
    "    audit.process_map(OSM_FILE, output_folder, suffix, validate=True)"
   ]
  },
  {
   "cell_type": "markdown",
   "metadata": {},
   "source": [
    "I cleared the long output from the previous cell, but looking through all the outputs was useful to catch street names ending with \"Plaza\", \"Stars\" (Avenue of the Stars) and \"Pkwy\". I edited the code to take care of that.\n",
    "\n",
    "Here's a peculiar error I found, one person entered this street address:\n",
    "\"N John Young Pkwy, Kissimmee, FL, United States\". Which is an entry error - State and country information should not be filed with the subtag key \"addr:street\". This kind of issue can be detected programatically (by looking for commas inside attrib['v'] subtags, and checking to see if it also includes city, country, state names). I don't attempt to do it here, but this can be part of additional cleaning - to break down subtags with too much information into seperate subtags."
   ]
  },
  {
   "cell_type": "code",
   "execution_count": 4,
   "metadata": {
    "collapsed": false
   },
   "outputs": [],
   "source": [
    "#csv to sqlite - same way we did for the sample file\n",
    "#conn.close()\n",
    "conn = sqlite3.connect('open_street_map/csv_files/orlando_whole.db')\n",
    "c = conn.cursor()\n",
    "# Create table\n",
    "c.execute(\"CREATE TABLE nodes(id NUMERIC,version INTEGER,lat FLOAT,lon FLOAT,changeset NUMERIC,uid INTEGER,timestamp DATETIME,user TEXT,primary key(id))\")\n",
    "\n",
    "with open('open_street_map/csv_files/nodes_whole.csv','rt', encoding= \"utf8\") as fin: \n",
    "    # csv.DictReader uses first line in file for column headings by default\n",
    "    dr = csv.DictReader(fin) # comma is default delimiter\n",
    "    #print(str(dr.fieldnames))\n",
    "    to_db = [(i['id'], i['version'], i['changeset'], i['lon'], i['lat'], i['uid'], i['timestamp'], i['user']) for i in dr]\n",
    "\n",
    "c.executemany(\"INSERT INTO nodes(id, version, changeset, lon, lat, uid, timestamp, user) VALUES (?, ?, ?, ?, ?, ?, ?, ?);\", to_db)\n",
    "conn.commit()\n",
    "\n",
    "#node tags table:\n",
    "c.execute(\"CREATE TABLE nodes_tags(id NUMERIC references nodes(id), key TEXT, value TEXT, type TEXT)\")\n",
    "\n",
    "with open('open_street_map/csv_files/nodes_tags_whole.csv','rt', encoding= \"utf8\") as fin: \n",
    "    # csv.DictReader uses first line in file for column headings by default\n",
    "    dr = csv.DictReader(fin) # comma is default delimiter\n",
    "    #print(str(dr.fieldnames))\n",
    "    to_db = [(i['id'], i['key'], i['value'], i['type']) for i in dr]\n",
    "\n",
    "c.executemany(\"INSERT INTO nodes_tags(id, key, value, type) VALUES (?, ?, ?, ?);\", to_db)\n",
    "conn.commit()\n",
    "\n",
    "#ways table\n",
    "c.execute(\"CREATE TABLE ways(id NUMERIC,version INTEGER,changeset NUMERIC,uid INTEGER,timestamp DATETIME,user TEXT,primary key(id))\")\n",
    "\n",
    "with open('open_street_map/csv_files/ways_whole.csv','rt', encoding= \"utf8\") as fin: \n",
    "    # csv.DictReader uses first line in file for column headings by default\n",
    "    dr = csv.DictReader(fin) # comma is default delimiter\n",
    "    #print(str(dr.fieldnames))\n",
    "    to_db = [(i['id'], i['version'], i['changeset'], i['uid'], i['timestamp'], i['user']) for i in dr]\n",
    "\n",
    "c.executemany(\"INSERT INTO ways(id, version, changeset, uid, timestamp, user) VALUES (?, ?, ?, ?, ?, ?);\", to_db)\n",
    "conn.commit()\n",
    "\n",
    "#ways tags table:\n",
    "c.execute(\"CREATE TABLE ways_tags(id NUMERIC references ways(id), key TEXT, value TEXT, type TEXT)\")\n",
    "\n",
    "with open('open_street_map/csv_files/ways_tags_whole.csv','rt', encoding= \"utf8\") as fin:\n",
    "    # csv.DictReader uses first line in file for column headings by default\n",
    "    dr = csv.DictReader(fin) # comma is default delimiter\n",
    "    #print(str(dr.fieldnames))\n",
    "    to_db = [(i['id'], i['key'], i['value'], i['type']) for i in dr]\n",
    "\n",
    "c.executemany(\"INSERT INTO ways_tags(id, key, value, type) VALUES (?, ?, ?, ?);\", to_db)\n",
    "conn.commit()\n",
    "\n",
    "#ways nodes table:\n",
    "c.execute(\"CREATE TABLE ways_nodes(id NUMERIC references ways(id), node_id NUMERIC references nodes(id), position INTEGER)\")\n",
    "\n",
    "with open('open_street_map/csv_files/ways_nodes_whole.csv','rt', encoding= \"utf8\") as fin: # `with` statement available in 2.5+\n",
    "    # csv.DictReader uses first line in file for column headings by default\n",
    "    dr = csv.DictReader(fin) # comma is default delimiter\n",
    "    #print(str(dr.fieldnames))\n",
    "    to_db = [(i['id'], i['node_id'], i['position']) for i in dr]\n",
    "\n",
    "c.executemany(\"INSERT INTO ways_nodes(id, node_id, position) VALUES (?, ?, ?);\", to_db)\n",
    "conn.commit()\n",
    "\n",
    "#relations table\n",
    "c.execute(\"CREATE TABLE relations(id NUMERIC,version INTEGER,changeset NUMERIC,uid INTEGER,timestamp DATETIME,user TEXT,primary key(id))\")\n",
    "\n",
    "with open('open_street_map/csv_files/relations_whole.csv','rt', encoding= \"utf8\") as fin: \n",
    "    # csv.DictReader uses first line in file for column headings by default\n",
    "    dr = csv.DictReader(fin) # comma is default delimiter\n",
    "    #print(str(dr.fieldnames))\n",
    "    to_db = [(i['id'], i['version'], i['changeset'], i['uid'], i['timestamp'], i['user']) for i in dr]\n",
    "\n",
    "c.executemany(\"INSERT INTO relations(id, version, changeset, uid, timestamp, user) VALUES (?, ?, ?, ?, ?, ?);\", to_db)\n",
    "conn.commit()\n",
    "\n",
    "#ways tags table:\n",
    "c.execute(\"CREATE TABLE relations_tags(id NUMERIC references relations(id), key TEXT, value TEXT, type TEXT)\")\n",
    "\n",
    "with open('open_street_map/csv_files/relations_tags_whole.csv','rt', encoding= \"utf8\") as fin:\n",
    "    # csv.DictReader uses first line in file for column headings by default\n",
    "    dr = csv.DictReader(fin) # comma is default delimiter\n",
    "    #print(str(dr.fieldnames))\n",
    "    to_db = [(i['id'], i['key'], i['value'], i['type']) for i in dr]\n",
    "\n",
    "c.executemany(\"INSERT INTO relations_tags(id, key, value, type) VALUES (?, ?, ?, ?);\", to_db)\n",
    "conn.commit()\n",
    "\n",
    "#relations members\n",
    "c.execute(\"CREATE TABLE relations_members(id NUMERIC references relations(id), node_id NUMERIC references nodes(id), way_id NUMERIC references ways(id), relation_id NUMERIC references relations(id), role TEXT)\")\n",
    "\n",
    "with open('open_street_map/csv_files/relations_members_whole.csv','rt', encoding= \"utf8\") as fin:\n",
    "    # csv.DictReader uses first line in file for column headings by default\n",
    "    dr = csv.DictReader(fin) # comma is default delimiter\n",
    "    #print(str(dr.fieldnames))\n",
    "    to_db=[]\n",
    "    for item in dr:\n",
    "        if \"node\" in item[\"ref_to\"]:\n",
    "            one_tuple=(item[\"id\"],item[\"ref_id\"],None,None,item[\"role\"])\n",
    "            to_db.append(one_tuple)\n",
    "        elif \"way\" in item[\"ref_to\"]:\n",
    "            one_tuple=(item[\"id\"],None,item[\"ref_id\"],None,item[\"role\"])\n",
    "            to_db.append(one_tuple)\n",
    "        elif \"relation\" in item[\"ref_to\"]:\n",
    "            one_tuple=(item[\"id\"],None,None,item[\"ref_id\"],item[\"role\"])\n",
    "            to_db.append(one_tuple)\n",
    "        else:\n",
    "            print(item)\n",
    "    #to_db = [(i['id'], i['ref_id'], i['ref_to'], i['role']) for i in dr]\n",
    "\n",
    "c.executemany(\"INSERT INTO relations_members(id, node_id, way_id, relation_id, role) VALUES (?, ?, ?, ?, ?);\", to_db)\n",
    "conn.commit()\n",
    "conn.close()"
   ]
  },
  {
   "cell_type": "markdown",
   "metadata": {},
   "source": [
    " File sizes of the .osm file and the csv files:\n",
    " \n",
    "* orlando.osm | 216.3MB\n",
    "* remake_sample.osm | 21.8MB\n",
    "* orlando_whole.db | 147.2MB\n",
    "* nodes_tags_whole.csv | 2.9MB\n",
    "* nodes_whole.csv | 73MB\n",
    "* relations_members_whole.csv | 11.6MB \n",
    "* relations_tags_whole.csv | 1.1MB\n",
    "* relations_whole.csv | 344KB\n",
    "* ways_nodes_whole.csv | 27.1MB\n",
    "* ways_tags_whole.csv | 19MB\n",
    "* ways_whole.csv | 7MB"
   ]
  },
  {
   "cell_type": "markdown",
   "metadata": {},
   "source": [
    "Let us start with finding out different type of entries we have (nodes/ways/relations)."
   ]
  },
  {
   "cell_type": "code",
   "execution_count": 5,
   "metadata": {
    "collapsed": false
   },
   "outputs": [
    {
     "name": "stdout",
     "output_type": "stream",
     "text": [
      "Number of nodes:  958446\n",
      "Number of ways:  122905\n",
      "Number of relations:  6446\n"
     ]
    }
   ],
   "source": [
    "conn = sqlite3.connect('open_street_map/csv_files/orlando_whole.db')\n",
    "c = conn.cursor()\n",
    "#Number of nodes:\n",
    "QUERY=\"SELECT count(*) from nodes\"\n",
    "c.execute(QUERY)\n",
    "print(\"Number of nodes: \", c.fetchall()[0][0])\n",
    "#Nmber of ways:\n",
    "QUERY=\"SELECT count(*) from ways\"\n",
    "c.execute(QUERY)\n",
    "print(\"Number of ways: \", c.fetchall()[0][0])\n",
    "#Number of relations:\n",
    "QUERY=\"SELECT count(*) from relations\"\n",
    "c.execute(QUERY)\n",
    "print(\"Number of relations: \", c.fetchall()[0][0])"
   ]
  },
  {
   "cell_type": "markdown",
   "metadata": {},
   "source": [
    "Let us explore the questions we posed earlier about the area, starting with the types of chain stores that show up frequently in Orlando:"
   ]
  },
  {
   "cell_type": "code",
   "execution_count": 6,
   "metadata": {
    "collapsed": false
   },
   "outputs": [
    {
     "name": "stdout",
     "output_type": "stream",
     "text": [
      "Most common type of chain stores:\n",
      "-----------------------------------\n",
      "Publix 40\n",
      "ALDI 16\n",
      "Home Depot 7\n",
      "Walmart Supercenter 7\n",
      "Dollar Tree 6\n",
      "Lowe's 6\n",
      "Walmart Neighborhood Market 6\n",
      "AT&T 5\n",
      "Gift Shop 5\n",
      "Ross 5\n"
     ]
    }
   ],
   "source": [
    "#Stores\n",
    "#I use a subquery to make a list of nodes ids that\n",
    "#belong to stores/markets/shops\n",
    "#then look for other tags that refer to the same node id\n",
    "#but give us the name of the store instead of some other key\n",
    "#then I group these names together and count how many chain stores there are\n",
    "#in the area, and print out top 10 most ubiquitous stores\n",
    "QUERY=\"SELECT nodes_tags.value, count(upper(nodes_tags.value)) as total from nodes_tags \"\\\n",
    "\"where (nodes_tags.id in (SELECT nodes_tags.id as id\"\\\n",
    "\" from nodes_tags where \"\\\n",
    "\"(nodes_tags.key like '%store' \"\\\n",
    "\"or nodes_tags.key like '%market' or nodes_tags.key like '%shop%')) and \"\\\n",
    "\"ltrim(nodes_tags.key) like '%name%') group by upper(nodes_tags.value) order by total desc limit 10\"\n",
    "\n",
    "c.execute(QUERY)\n",
    "output=c.fetchall()\n",
    "\n",
    "print(\"Most common type of chain stores:\")\n",
    "print(\"-----------------------------------\")\n",
    "for item in output:\n",
    "    print(item[0], str(item[1]))"
   ]
  },
  {
   "cell_type": "markdown",
   "metadata": {},
   "source": [
    "This returns all kinds of stores as I expected. But I just want to know about supermarket or grocery stores."
   ]
  },
  {
   "cell_type": "code",
   "execution_count": 7,
   "metadata": {
    "collapsed": false
   },
   "outputs": [
    {
     "name": "stdout",
     "output_type": "stream",
     "text": [
      "Most common type of grocery stores:\n",
      "-----------------------------------\n",
      "Publix 40\n",
      "ALDI 16\n",
      "Walmart Neighborhood Market 6\n",
      "Winn Dixie 5\n",
      "Save-a-Lot 3\n",
      "Winn-Dixie 3\n",
      "Pet Supermarket 2\n",
      "Sedano's 2\n",
      "Super Market 2\n",
      "Trader Joe's 2\n"
     ]
    }
   ],
   "source": [
    "#Stores\n",
    "QUERY=\"SELECT nodes_tags.value, count(upper(nodes_tags.value)) as total from nodes_tags \"\\\n",
    "\"where (nodes_tags.id in (SELECT nodes_tags.id as id\"\\\n",
    "\" from nodes_tags where \"\\\n",
    "\"(nodes_tags.value like '%supermarket%')) and \"\\\n",
    "\"ltrim(nodes_tags.key) like '%name%') group by upper(nodes_tags.value) order by total desc limit 10\"\n",
    "\n",
    "c.execute(QUERY)\n",
    "output=c.fetchall()\n",
    "\n",
    "print(\"Most common type of grocery stores:\")\n",
    "print(\"-----------------------------------\")\n",
    "for item in output:\n",
    "    print(item[0], str(item[1]))"
   ]
  },
  {
   "cell_type": "code",
   "execution_count": 8,
   "metadata": {
    "collapsed": false
   },
   "outputs": [
    {
     "name": "stdout",
     "output_type": "stream",
     "text": [
      "Most common types of cuisine:\n",
      "-----------------------------\n",
      "burger 106\n",
      "american 31\n",
      "pizza 28\n",
      "mexican 23\n",
      "chinese 20\n",
      "sandwich 19\n",
      "coffee_shop 14\n",
      "italian 9\n",
      "chicken 8\n",
      "donut 7\n"
     ]
    }
   ],
   "source": [
    "#types of cuisine that are popular\n",
    "QUERY=\"SELECT nodes_tags.value, count(upper(nodes_tags.value)) as total from nodes_tags where\"\\\n",
    "\" nodes_tags.key='cuisine' group by upper(nodes_tags.value) order by total desc limit 10\"\n",
    "c.execute(QUERY)\n",
    "output=c.fetchall()\n",
    "\n",
    "print(\"Most common types of cuisine:\")\n",
    "print(\"-----------------------------\")\n",
    "for item in output:\n",
    "    print(item[0], str(item[1]))"
   ]
  },
  {
   "cell_type": "markdown",
   "metadata": {},
   "source": [
    "I guess this is predictable, lots of Burger King/McDonalds everywhere in US. Mexican and chinese food also seem very popular. What are the different types of burger places they have in Orlando?"
   ]
  },
  {
   "cell_type": "code",
   "execution_count": 9,
   "metadata": {
    "collapsed": false
   },
   "outputs": [
    {
     "name": "stdout",
     "output_type": "stream",
     "text": [
      "Most common burger places:\n",
      "--------------------------\n",
      "McDonald's 53\n",
      "Burger King 25\n",
      "Wendy's 22\n",
      "Burger King Whopper Bar 1\n",
      "Cheeburger Cheeburger 1\n"
     ]
    }
   ],
   "source": [
    "#types of cuisine that are popular\n",
    "QUERY=\"SELECT nodes_tags.value, count(upper(nodes_tags.value)) as total from nodes_tags where\"\\\n",
    "\" (nodes_tags.id in (SELECT nodes_tags.id from nodes_tags where (nodes_tags.key='cuisine' and nodes_tags.value='burger'))\"\\\n",
    "\" and nodes_tags.key='name') group by upper(nodes_tags.value) order by total desc limit 5\"\n",
    "c.execute(QUERY)\n",
    "output=c.fetchall()\n",
    "\n",
    "print(\"Most common burger places:\")\n",
    "print(\"--------------------------\")\n",
    "for item in output:\n",
    "    print(item[0], str(item[1]))"
   ]
  },
  {
   "cell_type": "markdown",
   "metadata": {},
   "source": [
    "So they have no famous local burger chains like In n' out in California. \n",
    "\n",
    "I would also like to find out the different types of amenities in the region, I predict that there would be lots of places of worship, which is clear from glancing at the csv file."
   ]
  },
  {
   "cell_type": "code",
   "execution_count": 10,
   "metadata": {
    "collapsed": false
   },
   "outputs": [
    {
     "name": "stdout",
     "output_type": "stream",
     "text": [
      "Amenities:\n",
      "---------\n",
      "place_of_worship 579\n",
      "restaurant 310\n",
      "fast_food 293\n",
      "school 186\n",
      "fountain 136\n",
      "fuel 115\n",
      "bicycle_parking 88\n",
      "fire_station 77\n",
      "bank 72\n",
      "parking 60\n"
     ]
    }
   ],
   "source": [
    "#types of cuisine that are popular\n",
    "QUERY=\"SELECT nodes_tags.value, count(upper(nodes_tags.value)) as total from nodes_tags where\"\\\n",
    "\" nodes_tags.key='amenity' group by upper(nodes_tags.value) order by total desc limit 10\"\n",
    "c.execute(QUERY)\n",
    "output=c.fetchall()\n",
    "\n",
    "print(\"Amenities:\")\n",
    "print(\"---------\")\n",
    "for item in output:\n",
    "    print(item[0], str(item[1]))"
   ]
  },
  {
   "cell_type": "markdown",
   "metadata": {},
   "source": [
    "Okay now let us find out about which users contribute the most to this dataset."
   ]
  },
  {
   "cell_type": "code",
   "execution_count": 11,
   "metadata": {
    "collapsed": false
   },
   "outputs": [
    {
     "name": "stdout",
     "output_type": "stream",
     "text": [
      "Relations contributors:\n",
      "-----------------------\n",
      "NE2 5110\n",
      "epcotfan 228\n",
      "maxerickson 122\n",
      "valerietheblonde 87\n",
      "sayno2quat 86\n",
      "3yoda 62\n",
      "GoWestTravel 60\n",
      "Brian@Brea 48\n",
      "Perfal 41\n",
      "nyuriks 40\n"
     ]
    }
   ],
   "source": [
    "QUERY=\"SELECT uid, user, count(uid) as num from relations\"\\\n",
    "\" group by uid order by num desc limit 10\"\n",
    "c.execute(QUERY)\n",
    "relations_user=c.fetchall()\n",
    "\n",
    "QUERY=\"SELECT uid, user, count(uid) as num from ways\"\\\n",
    "\" group by uid order by num desc limit 10\"\n",
    "c.execute(QUERY)\n",
    "ways_user=c.fetchall()\n",
    "\n",
    "QUERY=\"SELECT uid, user, count(uid) as num from nodes\"\\\n",
    "\" group by uid order by num desc limit 10\"\n",
    "c.execute(QUERY)\n",
    "nodes_user=c.fetchall()\n",
    "\n",
    "#print out nicely:\n",
    "print(\"Relations contributors:\")\n",
    "print(\"-----------------------\")\n",
    "for item in relations_user:\n",
    "    print(item[1], str(item[2]))"
   ]
  },
  {
   "cell_type": "code",
   "execution_count": 12,
   "metadata": {
    "collapsed": false
   },
   "outputs": [
    {
     "name": "stdout",
     "output_type": "stream",
     "text": [
      "Ways contributors:\n",
      "------------------\n",
      "NE2 65426\n",
      "valerietheblonde 5531\n",
      "3yoda 3535\n",
      "epcotfan 2960\n",
      "Brian@Brea 2414\n",
      "thetornado76 2344\n",
      "Cdale1986 2240\n",
      "bot-mode 2046\n",
      "grouper 1871\n",
      "Adam Martin 1511\n"
     ]
    }
   ],
   "source": [
    "#print out nicely:\n",
    "print(\"Ways contributors:\")\n",
    "print(\"------------------\")\n",
    "for item in ways_user:\n",
    "    print(item[1], str(item[2]))"
   ]
  },
  {
   "cell_type": "code",
   "execution_count": 13,
   "metadata": {
    "collapsed": false
   },
   "outputs": [
    {
     "name": "stdout",
     "output_type": "stream",
     "text": [
      "Nodes contributors:\n",
      "-------------------\n",
      "NE2 422761\n",
      "valerietheblonde 42608\n",
      "crystalwalrein 36513\n",
      "3yoda 35341\n",
      "grouper 31522\n",
      "dale_p 23112\n",
      "epcotfan 21453\n",
      "Adam Martin 19158\n",
      "Brian@Brea 18166\n",
      "KindredCoda 17066\n"
     ]
    }
   ],
   "source": [
    "#print out nicely:\n",
    "print(\"Nodes contributors:\")\n",
    "print(\"-------------------\")\n",
    "for item in nodes_user:\n",
    "    print(item[1], str(item[2]))"
   ]
  },
  {
   "cell_type": "markdown",
   "metadata": {},
   "source": [
    "Overall:"
   ]
  },
  {
   "cell_type": "code",
   "execution_count": 14,
   "metadata": {
    "collapsed": false
   },
   "outputs": [
    {
     "name": "stdout",
     "output_type": "stream",
     "text": [
      "Highest contributors:\n",
      "----------------------\n",
      "NE2 493297\n",
      "valerietheblonde 48226\n",
      "3yoda 38938\n",
      "crystalwalrein 36699\n",
      "grouper 33404\n",
      "epcotfan 24641\n",
      "dale_p 24326\n",
      "Adam Martin 20673\n",
      "Brian@Brea 20628\n",
      "RobChafer 18449\n"
     ]
    }
   ],
   "source": [
    "#this query takes in all user ids from all three types of\n",
    "#top level events, and finds the top 10 most prolific contributors\n",
    "QUERY=\"SELECT  uid, user, count(uid) as num FROM \"\\\n",
    "\"(SELECT uid, user FROM nodes UNION ALL SELECT uid, user FROM ways UNION ALL SELECT uid, \"\\\n",
    "\"user FROM relations) group by uid order by num desc limit 10\"\n",
    "\n",
    "c.execute(QUERY)\n",
    "all_user=c.fetchall()\n",
    "\n",
    "#print out nicely:\n",
    "print(\"Highest contributors:\")\n",
    "print(\"----------------------\")\n",
    "for item in all_user:\n",
    "    print(item[1], str(item[2]))"
   ]
  },
  {
   "cell_type": "markdown",
   "metadata": {},
   "source": [
    "Total number of unique users:"
   ]
  },
  {
   "cell_type": "code",
   "execution_count": 15,
   "metadata": {
    "collapsed": false
   },
   "outputs": [
    {
     "name": "stdout",
     "output_type": "stream",
     "text": [
      "Number of unique users for relations:  147\n",
      "Alternate method:  147\n",
      "Number of unique users for ways:  557\n",
      "Number of unique users for nodes:  715\n",
      "Total number of unique users in that area:  826\n"
     ]
    }
   ],
   "source": [
    "QUERY=\"SELECT count(DISTINCT(uid)) as num from relations\"\n",
    "c.execute(QUERY)\n",
    "relations_user=c.fetchall()\n",
    "\n",
    "#Another way to do this:\n",
    "QUERY=\"SELECT count(uid) from (SELECT uid from relations group by uid)\"\n",
    "c.execute(QUERY)\n",
    "relations_user_2=c.fetchall()\n",
    "\n",
    "QUERY=\"SELECT count(DISTINCT(uid)) as num from ways\"\n",
    "c.execute(QUERY)\n",
    "ways_user=c.fetchall()\n",
    "\n",
    "QUERY=\"SELECT count(DISTINCT(uid)) as num from nodes\"\n",
    "c.execute(QUERY)\n",
    "nodes_user=c.fetchall()\n",
    "\n",
    "QUERY=\"SELECT count(DISTINCT(uid)) as num from (SELECT uid from nodes\"\\\n",
    "\" UNION ALL SELECT uid from ways UNION ALL SELECT uid from relations)\"\n",
    "c.execute(QUERY)\n",
    "all_user=c.fetchall()\n",
    "\n",
    "print(\"Number of unique users for relations: \", relations_user[0][0])\n",
    "print(\"Alternate method: \", relations_user_2[0][0])\n",
    "print(\"Number of unique users for ways: \", ways_user[0][0])\n",
    "print(\"Number of unique users for nodes: \", nodes_user[0][0])\n",
    "print(\"Total number of unique users in that area: \", all_user[0][0])"
   ]
  },
  {
   "cell_type": "markdown",
   "metadata": {},
   "source": [
    "So around 826 people contributed to recording information about Orlando and surrounding area.\n",
    "\n",
    "It looks like most of the things I did also show up in the sample project, but I didn't look at the specifics of that file before doing my project :S\n",
    "\n",
    "Anyway, let us find out something very specific to Florida: Alligator related nodes."
   ]
  },
  {
   "cell_type": "code",
   "execution_count": 16,
   "metadata": {
    "collapsed": false
   },
   "outputs": [
    {
     "data": {
      "text/plain": [
       "[]"
      ]
     },
     "execution_count": 16,
     "metadata": {},
     "output_type": "execute_result"
    }
   ],
   "source": [
    "QUERY=\"SELECT id, key, value \"\\\n",
    "\"from nodes_tags where (key like '%alligator%' COLLATE NOCASE or \"\\\n",
    "\"value like '%alligator%' COLLATE NOCASE)\"\n",
    "c.execute(QUERY)\n",
    "c.fetchall()"
   ]
  },
  {
   "cell_type": "markdown",
   "metadata": {},
   "source": [
    "That is disappointing. Maybe I can find some places from Universal Studios, like the Simpsons or something from Harry Potter World."
   ]
  },
  {
   "cell_type": "code",
   "execution_count": 17,
   "metadata": {
    "collapsed": false
   },
   "outputs": [
    {
     "data": {
      "text/plain": [
       "[(2409455843, 'name', 'Simpsons Fast Food Boulevard'),\n",
       " (2987354815, 'name', 'Hogsmeade Station'),\n",
       " (2987354815, 'alt_name', 'Hogsmeade'),\n",
       " (2987354819, 'name', \"King's Cross station\"),\n",
       " (3687251875, 'name', \"King's Cross\"),\n",
       " (3687251882, 'name', 'Hogsmeade')]"
      ]
     },
     "execution_count": 17,
     "metadata": {},
     "output_type": "execute_result"
    }
   ],
   "source": [
    "QUERY=\"SELECT id, key, value from nodes_tags where (value like '%Hogsmeade%' or \"\\\n",
    "\"value like '%King%s Cross%' or value like '%Simpsons%')\"\n",
    "c.execute(QUERY)\n",
    "c.fetchall()"
   ]
  },
  {
   "cell_type": "markdown",
   "metadata": {},
   "source": [
    "So this is something I did not think about before, there are several nodes referring to the same thing. This is possibly because there are slightly different latitude and longitude values as the place is not just a single point. This is why the system cannot recognize they are both referring to the same thing. A repetition cleaning can also be considered as further work."
   ]
  },
  {
   "cell_type": "markdown",
   "metadata": {},
   "source": [
    "## Further work and Conclusions"
   ]
  },
  {
   "cell_type": "markdown",
   "metadata": {},
   "source": [
    "From previous section, we know that multiple nodes refer to the same location. This kind of repetition can be removed if the database checks nearby tags (nearby in location, i.e., using latitude and longitude), and checks the \"name\" of those fields as well. If the (regardless of case) names of two or more very nearby locations with different node ids are also very similar, the database can flag these nodes as items that need user review. Than users can review whether or not these are repetitions, or whether subtags need to be merged for these two fields.\n",
    "\n",
    "Another issue is the issue of misspelling, or the issue of nonconforming data entry. We jsut cleaned street type, but other fields, such as names of chain stores might be mispelled too. This can possibly be checked using a more sophisticated shape element function, but that is beyond what I can do for this project.\n",
    "\n",
    "I tried a little bit to explore an area I know quite well by using latitude, longitude:"
   ]
  },
  {
   "cell_type": "code",
   "execution_count": null,
   "metadata": {
    "collapsed": false
   },
   "outputs": [],
   "source": [
    "#find out all nodes that refer to Universal. This can be done in two ways\n",
    "#first check tags that have the value \"Universal\" in it.\n",
    "#But this could be referring to Universal Boulevard, which is a street and therefore\n",
    "#not really part of universal studios\n",
    "#so a better way is to select by latitude and longitude and then check node number/usernames.\n",
    "#location: lat,lon: 28.474321°,-81.467819°, \n",
    "#LATITUDE RANGE: 28.468484, 28.482434\n",
    "#LONGITUDE RANGE: -81.474761,-81.4599335\n",
    "#QUERY=\"SELECT nodes.id, nodes.uid, nodes.user, nodes.lon, nodes.lat, nodes_tags.key, nodes_tags.value from nodes, nodes_tags where (nodes.lon>-81.474761 and nodes.lon<-81.4599335 and nodes.lat>28.468484 and nodes.lat<28.482434 and nodes_tags.value like '%Universal%')\"\n",
    "QUERY=\"SELECT nodes.id, nodes.uid, nodes.user, nodes.lon, nodes.lat, nodes_tags.key, nodes_tags.value from nodes, nodes_tags where (nodes.lon>(-81.467819-0.008) and nodes.lon<(-81.467819+0.008) and nodes.lat>(28.474321-0.008) and nodes.lat<(28.474321+0.008))\"\n",
    "c.execute(QUERY)\n",
    "mtable=c.fetchall()\n",
    "'''\n",
    "with open('open_street_map/csv_files/universal_nodes.csv', 'w', newline='') as f:\n",
    "    a = csv.writer(f, delimiter=',')\n",
    "    for line in mtable:\n",
    "        a.writerow(line)\n",
    "'''\n",
    "        \n",
    "#just to be sure that the sql is working with the latitude and longitude constraints:\n",
    "lat=[]\n",
    "lon=[]\n",
    "for item in mtable:\n",
    "    lat.append(item[4])\n",
    "    lon.append(item[3])\n",
    "    \n",
    "plt.scatter(lon, lat, color=\"blue\", s=1)\n",
    "plt.xlabel(\"lon\")\n",
    "plt.ylabel(\"lat\")\n",
    "plt.show()"
   ]
  },
  {
   "cell_type": "markdown",
   "metadata": {
    "collapsed": false
   },
   "source": [
    "This dataset (universal_nodes.csv) is more than 1 GB, and just by looking into the file, I see that it includes everything including highway, exit to and a lot of information about objects not really related to Universal Studios. To find \"nearby\" locations to a node, the system should use a smaller radius than I did, although I was trying to find everything within Universal Studios."
   ]
  },
  {
   "cell_type": "markdown",
   "metadata": {},
   "source": [
    "### To summarize the issues I found and sugestions for further work:\n",
    "\n",
    "* It obviously is not complete as I cannot find some of the restaurants I remember from Universal. Users should be able to flag areas that are missing description, so that the community is encouraged (via email notifications) to contribute adding more entries about that area.\n",
    "* There will be mispelled names. We can fix names of chain stores programatically. But it is trickier to find \"gold standard data\" for local establishments (unless maybe we can compare with some other source, such as google maps). Some user input and checks would be required for it. One way to minimize user input is to have a \"autocomplete\" feature during data entry. If someone is entering \"mcd...\", and the system knows that this information is about a burger place, it can suggest \"McDonald's\"\n",
    "* There is repetition in nodes. Several nodes refer to Hogsmeade Station. An autocomplete feature could also check for nearby (locationally) tags that have similar \"names\", and ask the user if they are referring to the same place or not. If a node referring to take place already exists, then the new entry is not added, or only new subtags containing information that the place did not have before is added.\n",
    "* Sometimes users tend to input too much information in subtags, I found a subtag with the key \"addr:street\" that also included state and country information. Entries like these need to be broken up into several subtags.  It can at least partly be done programatically, by looking at attrib['v'] with commas and searching to see if a street addres also contains name of the city etc.\n",
    "* Maybe the data entry interface can be changed. If someone is adding a usual subtag, such as phone number, they can choose that from a dropdown menu of usual \"keys\", and the \"value\" field can then also have the appropriate formatting. This might be able to take care most of the formatting issues. To prevent people from entering excess informaton (such as State and country information along with street address), there can be an upper limit on how much data can be entered as \"value\". For unusual subtags, there can be an \"other\" field.\n",
    "* Every year, top contributors in an area can be selected for a prize. This would encourage more people to participate.\n",
    "\n",
    "The issue with data cleaning for such massive datasets is that it is time and memory consuming. Taking care of the repetition bit would be difficult because for each node, a codes needs to take into account all nodes within a certain latitude/longitude range. Doing a spatial search like this takes time, and even a small area may have a lot of nodes, which is what I found while trying to isolate all the nodes for Universal Studios. Then the names of those nodes (from subtags) can be matched to weed out repeated entries. It would be a little bit of code, but might take a lot of processing time."
   ]
  }
 ],
 "metadata": {
  "anaconda-cloud": {},
  "kernelspec": {
   "display_name": "Python [conda root]",
   "language": "python",
   "name": "conda-root-py"
  },
  "language_info": {
   "codemirror_mode": {
    "name": "ipython",
    "version": 3
   },
   "file_extension": ".py",
   "mimetype": "text/x-python",
   "name": "python",
   "nbconvert_exporter": "python",
   "pygments_lexer": "ipython3",
   "version": "3.5.2"
  }
 },
 "nbformat": 4,
 "nbformat_minor": 1
}
